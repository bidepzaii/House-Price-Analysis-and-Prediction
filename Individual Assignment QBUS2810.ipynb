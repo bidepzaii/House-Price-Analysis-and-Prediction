{
 "cells": [
  {
   "cell_type": "markdown",
   "id": "f1d154f3",
   "metadata": {},
   "source": [
    "# Task 1"
   ]
  },
  {
   "cell_type": "markdown",
   "id": "89bb304c",
   "metadata": {},
   "source": [
    "## Question 1\n",
    "\n",
    "Conduct an appropriate exploratory analysis on the house priced, for all houses.\n",
    "Discuss any cleaning of the data you did, including why and how you did it, or why you\n",
    "didn’t do it. Explore the distribution of the houses in the two subgroups, waterfront\n",
    "and not."
   ]
  },
  {
   "cell_type": "code",
   "execution_count": 2,
   "id": "62ee6d1a",
   "metadata": {},
   "outputs": [],
   "source": [
    "# Import all the usual suspects\n",
    "%matplotlib inline\n",
    "import pandas as pd\n",
    "import numpy as np\n",
    "import matplotlib.pyplot as plt\n",
    "import seaborn as sns"
   ]
  },
  {
   "cell_type": "markdown",
   "id": "1ba9066e",
   "metadata": {},
   "source": [
    "### Preliminary data cleaning"
   ]
  },
  {
   "cell_type": "code",
   "execution_count": 3,
   "id": "aa226214",
   "metadata": {},
   "outputs": [
    {
     "data": {
      "text/html": [
       "<div>\n",
       "<style scoped>\n",
       "    .dataframe tbody tr th:only-of-type {\n",
       "        vertical-align: middle;\n",
       "    }\n",
       "\n",
       "    .dataframe tbody tr th {\n",
       "        vertical-align: top;\n",
       "    }\n",
       "\n",
       "    .dataframe thead th {\n",
       "        text-align: right;\n",
       "    }\n",
       "</style>\n",
       "<table border=\"1\" class=\"dataframe\">\n",
       "  <thead>\n",
       "    <tr style=\"text-align: right;\">\n",
       "      <th></th>\n",
       "      <th>id</th>\n",
       "      <th>price</th>\n",
       "      <th>bedrooms</th>\n",
       "      <th>bathrooms</th>\n",
       "      <th>sqm_living</th>\n",
       "      <th>sqm_lot</th>\n",
       "      <th>waterfront</th>\n",
       "    </tr>\n",
       "  </thead>\n",
       "  <tbody>\n",
       "    <tr>\n",
       "      <th>0</th>\n",
       "      <td>1</td>\n",
       "      <td>221900</td>\n",
       "      <td>3</td>\n",
       "      <td>1.00</td>\n",
       "      <td>109.624675</td>\n",
       "      <td>524.897807</td>\n",
       "      <td>0</td>\n",
       "    </tr>\n",
       "    <tr>\n",
       "      <th>1</th>\n",
       "      <td>2</td>\n",
       "      <td>538000</td>\n",
       "      <td>3</td>\n",
       "      <td>2.25</td>\n",
       "      <td>238.758826</td>\n",
       "      <td>672.798216</td>\n",
       "      <td>0</td>\n",
       "    </tr>\n",
       "    <tr>\n",
       "      <th>2</th>\n",
       "      <td>3</td>\n",
       "      <td>180000</td>\n",
       "      <td>2</td>\n",
       "      <td>1.00</td>\n",
       "      <td>71.534745</td>\n",
       "      <td>929.022668</td>\n",
       "      <td>0</td>\n",
       "    </tr>\n",
       "    <tr>\n",
       "      <th>3</th>\n",
       "      <td>4</td>\n",
       "      <td>604000</td>\n",
       "      <td>4</td>\n",
       "      <td>3.00</td>\n",
       "      <td>182.088443</td>\n",
       "      <td>464.511334</td>\n",
       "      <td>0</td>\n",
       "    </tr>\n",
       "    <tr>\n",
       "      <th>4</th>\n",
       "      <td>5</td>\n",
       "      <td>510000</td>\n",
       "      <td>3</td>\n",
       "      <td>2.00</td>\n",
       "      <td>156.075808</td>\n",
       "      <td>750.650316</td>\n",
       "      <td>0</td>\n",
       "    </tr>\n",
       "    <tr>\n",
       "      <th>5</th>\n",
       "      <td>6</td>\n",
       "      <td>1225000</td>\n",
       "      <td>4</td>\n",
       "      <td>4.50</td>\n",
       "      <td>503.530286</td>\n",
       "      <td>9469.528056</td>\n",
       "      <td>0</td>\n",
       "    </tr>\n",
       "    <tr>\n",
       "      <th>6</th>\n",
       "      <td>7</td>\n",
       "      <td>257500</td>\n",
       "      <td>3</td>\n",
       "      <td>2.25</td>\n",
       "      <td>159.327388</td>\n",
       "      <td>633.500557</td>\n",
       "      <td>0</td>\n",
       "    </tr>\n",
       "    <tr>\n",
       "      <th>7</th>\n",
       "      <td>8</td>\n",
       "      <td>291850</td>\n",
       "      <td>3</td>\n",
       "      <td>1.50</td>\n",
       "      <td>98.476403</td>\n",
       "      <td>902.173913</td>\n",
       "      <td>0</td>\n",
       "    </tr>\n",
       "    <tr>\n",
       "      <th>8</th>\n",
       "      <td>9</td>\n",
       "      <td>229500</td>\n",
       "      <td>3</td>\n",
       "      <td>1.00</td>\n",
       "      <td>165.366035</td>\n",
       "      <td>693.979933</td>\n",
       "      <td>0</td>\n",
       "    </tr>\n",
       "    <tr>\n",
       "      <th>9</th>\n",
       "      <td>10</td>\n",
       "      <td>323000</td>\n",
       "      <td>3</td>\n",
       "      <td>2.50</td>\n",
       "      <td>175.585284</td>\n",
       "      <td>609.438870</td>\n",
       "      <td>0</td>\n",
       "    </tr>\n",
       "  </tbody>\n",
       "</table>\n",
       "</div>"
      ],
      "text/plain": [
       "   id    price  bedrooms  bathrooms  sqm_living      sqm_lot  waterfront\n",
       "0   1   221900         3       1.00  109.624675   524.897807           0\n",
       "1   2   538000         3       2.25  238.758826   672.798216           0\n",
       "2   3   180000         2       1.00   71.534745   929.022668           0\n",
       "3   4   604000         4       3.00  182.088443   464.511334           0\n",
       "4   5   510000         3       2.00  156.075808   750.650316           0\n",
       "5   6  1225000         4       4.50  503.530286  9469.528056           0\n",
       "6   7   257500         3       2.25  159.327388   633.500557           0\n",
       "7   8   291850         3       1.50   98.476403   902.173913           0\n",
       "8   9   229500         3       1.00  165.366035   693.979933           0\n",
       "9  10   323000         3       2.50  175.585284   609.438870           0"
      ]
     },
     "execution_count": 3,
     "metadata": {},
     "output_type": "execute_result"
    }
   ],
   "source": [
    "# Load in the data\n",
    "house = pd.read_csv('house_data_2024.csv')\n",
    "\n",
    "# Print the first 10 observations\n",
    "house.head(10)"
   ]
  },
  {
   "cell_type": "code",
   "execution_count": 4,
   "id": "71b0d25f",
   "metadata": {},
   "outputs": [
    {
     "data": {
      "text/plain": [
       "(21601, 7)"
      ]
     },
     "execution_count": 4,
     "metadata": {},
     "output_type": "execute_result"
    }
   ],
   "source": [
    "# Investigate the number of observations and number of columns of the dataset\n",
    "house.shape"
   ]
  },
  {
   "cell_type": "code",
   "execution_count": 5,
   "id": "de1876f7",
   "metadata": {},
   "outputs": [
    {
     "data": {
      "text/plain": [
       "(21601, 7)"
      ]
     },
     "execution_count": 5,
     "metadata": {},
     "output_type": "execute_result"
    }
   ],
   "source": [
    "# We check for duplicate values and delete duplicated rows \n",
    "house.drop_duplicates()\n",
    "house.shape"
   ]
  },
  {
   "cell_type": "markdown",
   "id": "68b040e1",
   "metadata": {},
   "source": [
    "After dropping the duplicated rows with drop_duplicates( ), we can see that the number of rows stay the same. This means that our dataset does not have any duplicated values. "
   ]
  },
  {
   "cell_type": "markdown",
   "id": "d8d78db9",
   "metadata": {},
   "source": [
    "### Data Types"
   ]
  },
  {
   "cell_type": "markdown",
   "id": "98850232",
   "metadata": {},
   "source": [
    "First, we check the types of each column in our dataset:"
   ]
  },
  {
   "cell_type": "code",
   "execution_count": 5,
   "id": "6144223b",
   "metadata": {
    "scrolled": true
   },
   "outputs": [
    {
     "data": {
      "text/plain": [
       "id              int64\n",
       "price           int64\n",
       "bedrooms        int64\n",
       "bathrooms     float64\n",
       "sqm_living    float64\n",
       "sqm_lot       float64\n",
       "waterfront      int64\n",
       "dtype: object"
      ]
     },
     "execution_count": 5,
     "metadata": {},
     "output_type": "execute_result"
    }
   ],
   "source": [
    "house.dtypes"
   ]
  },
  {
   "cell_type": "markdown",
   "id": "df274ff2",
   "metadata": {},
   "source": [
    "Now, we check the data type of each column: \n",
    "- id: The data type of this column is suppose to be an object instead of an interger\n",
    "- price: The price of each house is suppose to be a float instead of an interger\n",
    "- bedrooms: Interger is the correct data type for the number of bedrooms\n",
    "- bathrooms: The number of bedrooms is suppose to be an interger instead of a float\n",
    "- sqm_living: Float is the correct data type for square meters of the living room\n",
    "- sqm_lot: Float is the correct data type for square meters of the parking lot\n",
    "- waterfront: The waterfront data should be an object: 0 for No waterfront and 1 for Waterfront\n",
    "\n",
    "Hence, we need to change the data type for the columns id, price, bathrooms, and waterfront:"
   ]
  },
  {
   "cell_type": "code",
   "execution_count": 8,
   "id": "549ce5ac",
   "metadata": {},
   "outputs": [],
   "source": [
    "house['id'] = house['id'].astype(\"object\")\n",
    "\n",
    "house['price'] = house['price'].astype(\"float64\")\n",
    "\n",
    "house['bathrooms'] = house['bathrooms'].astype(\"int64\")\n",
    "\n",
    "house['waterfront'] = house['waterfront'].astype(\"object\")"
   ]
  },
  {
   "cell_type": "markdown",
   "id": "8b636d5f",
   "metadata": {},
   "source": [
    "Now, we inspect the data types again."
   ]
  },
  {
   "cell_type": "code",
   "execution_count": 9,
   "id": "561b7e18",
   "metadata": {},
   "outputs": [
    {
     "data": {
      "text/plain": [
       "id             object\n",
       "price         float64\n",
       "bedrooms        int64\n",
       "bathrooms       int64\n",
       "sqm_living    float64\n",
       "sqm_lot       float64\n",
       "waterfront     object\n",
       "dtype: object"
      ]
     },
     "execution_count": 9,
     "metadata": {},
     "output_type": "execute_result"
    }
   ],
   "source": [
    "house.dtypes"
   ]
  },
  {
   "cell_type": "markdown",
   "id": "42a520b2",
   "metadata": {},
   "source": [
    "The data types are now correct. Then, we can inspect the dataset again to check if the data types are appropriate"
   ]
  },
  {
   "cell_type": "code",
   "execution_count": 10,
   "id": "7f27824e",
   "metadata": {
    "scrolled": true
   },
   "outputs": [
    {
     "data": {
      "text/html": [
       "<div>\n",
       "<style scoped>\n",
       "    .dataframe tbody tr th:only-of-type {\n",
       "        vertical-align: middle;\n",
       "    }\n",
       "\n",
       "    .dataframe tbody tr th {\n",
       "        vertical-align: top;\n",
       "    }\n",
       "\n",
       "    .dataframe thead th {\n",
       "        text-align: right;\n",
       "    }\n",
       "</style>\n",
       "<table border=\"1\" class=\"dataframe\">\n",
       "  <thead>\n",
       "    <tr style=\"text-align: right;\">\n",
       "      <th></th>\n",
       "      <th>id</th>\n",
       "      <th>price</th>\n",
       "      <th>bedrooms</th>\n",
       "      <th>bathrooms</th>\n",
       "      <th>sqm_living</th>\n",
       "      <th>sqm_lot</th>\n",
       "      <th>waterfront</th>\n",
       "    </tr>\n",
       "  </thead>\n",
       "  <tbody>\n",
       "    <tr>\n",
       "      <th>0</th>\n",
       "      <td>1</td>\n",
       "      <td>221900.0</td>\n",
       "      <td>3</td>\n",
       "      <td>1</td>\n",
       "      <td>109.624675</td>\n",
       "      <td>524.897807</td>\n",
       "      <td>0</td>\n",
       "    </tr>\n",
       "    <tr>\n",
       "      <th>1</th>\n",
       "      <td>2</td>\n",
       "      <td>538000.0</td>\n",
       "      <td>3</td>\n",
       "      <td>2</td>\n",
       "      <td>238.758826</td>\n",
       "      <td>672.798216</td>\n",
       "      <td>0</td>\n",
       "    </tr>\n",
       "    <tr>\n",
       "      <th>2</th>\n",
       "      <td>3</td>\n",
       "      <td>180000.0</td>\n",
       "      <td>2</td>\n",
       "      <td>1</td>\n",
       "      <td>71.534745</td>\n",
       "      <td>929.022668</td>\n",
       "      <td>0</td>\n",
       "    </tr>\n",
       "    <tr>\n",
       "      <th>3</th>\n",
       "      <td>4</td>\n",
       "      <td>604000.0</td>\n",
       "      <td>4</td>\n",
       "      <td>3</td>\n",
       "      <td>182.088443</td>\n",
       "      <td>464.511334</td>\n",
       "      <td>0</td>\n",
       "    </tr>\n",
       "    <tr>\n",
       "      <th>4</th>\n",
       "      <td>5</td>\n",
       "      <td>510000.0</td>\n",
       "      <td>3</td>\n",
       "      <td>2</td>\n",
       "      <td>156.075808</td>\n",
       "      <td>750.650316</td>\n",
       "      <td>0</td>\n",
       "    </tr>\n",
       "    <tr>\n",
       "      <th>5</th>\n",
       "      <td>6</td>\n",
       "      <td>1225000.0</td>\n",
       "      <td>4</td>\n",
       "      <td>4</td>\n",
       "      <td>503.530286</td>\n",
       "      <td>9469.528056</td>\n",
       "      <td>0</td>\n",
       "    </tr>\n",
       "    <tr>\n",
       "      <th>6</th>\n",
       "      <td>7</td>\n",
       "      <td>257500.0</td>\n",
       "      <td>3</td>\n",
       "      <td>2</td>\n",
       "      <td>159.327388</td>\n",
       "      <td>633.500557</td>\n",
       "      <td>0</td>\n",
       "    </tr>\n",
       "    <tr>\n",
       "      <th>7</th>\n",
       "      <td>8</td>\n",
       "      <td>291850.0</td>\n",
       "      <td>3</td>\n",
       "      <td>1</td>\n",
       "      <td>98.476403</td>\n",
       "      <td>902.173913</td>\n",
       "      <td>0</td>\n",
       "    </tr>\n",
       "    <tr>\n",
       "      <th>8</th>\n",
       "      <td>9</td>\n",
       "      <td>229500.0</td>\n",
       "      <td>3</td>\n",
       "      <td>1</td>\n",
       "      <td>165.366035</td>\n",
       "      <td>693.979933</td>\n",
       "      <td>0</td>\n",
       "    </tr>\n",
       "    <tr>\n",
       "      <th>9</th>\n",
       "      <td>10</td>\n",
       "      <td>323000.0</td>\n",
       "      <td>3</td>\n",
       "      <td>2</td>\n",
       "      <td>175.585284</td>\n",
       "      <td>609.438870</td>\n",
       "      <td>0</td>\n",
       "    </tr>\n",
       "  </tbody>\n",
       "</table>\n",
       "</div>"
      ],
      "text/plain": [
       "   id      price  bedrooms  bathrooms  sqm_living      sqm_lot waterfront\n",
       "0   1   221900.0         3          1  109.624675   524.897807          0\n",
       "1   2   538000.0         3          2  238.758826   672.798216          0\n",
       "2   3   180000.0         2          1   71.534745   929.022668          0\n",
       "3   4   604000.0         4          3  182.088443   464.511334          0\n",
       "4   5   510000.0         3          2  156.075808   750.650316          0\n",
       "5   6  1225000.0         4          4  503.530286  9469.528056          0\n",
       "6   7   257500.0         3          2  159.327388   633.500557          0\n",
       "7   8   291850.0         3          1   98.476403   902.173913          0\n",
       "8   9   229500.0         3          1  165.366035   693.979933          0\n",
       "9  10   323000.0         3          2  175.585284   609.438870          0"
      ]
     },
     "execution_count": 10,
     "metadata": {},
     "output_type": "execute_result"
    }
   ],
   "source": [
    "house.head(10)"
   ]
  },
  {
   "cell_type": "markdown",
   "id": "38c10e43",
   "metadata": {},
   "source": [
    "Next, we can look at the unique values of each column"
   ]
  },
  {
   "cell_type": "code",
   "execution_count": 11,
   "id": "a1406f26",
   "metadata": {
    "scrolled": true
   },
   "outputs": [
    {
     "data": {
      "text/plain": [
       "id            21600\n",
       "price          4025\n",
       "bedrooms         14\n",
       "bathrooms        10\n",
       "sqm_living     1038\n",
       "sqm_lot        9777\n",
       "waterfront        3\n",
       "dtype: int64"
      ]
     },
     "execution_count": 11,
     "metadata": {},
     "output_type": "execute_result"
    }
   ],
   "source": [
    "house.nunique() "
   ]
  },
  {
   "cell_type": "markdown",
   "id": "599b056d",
   "metadata": {},
   "source": [
    "We can observe something unusual here, as the column waterfront is only suppose to represent two scenarios: 0: No waterfront and 1: Waterfront. Therefore, we need to examine the specific values of column \"waterfront\""
   ]
  },
  {
   "cell_type": "code",
   "execution_count": 12,
   "id": "539474cd",
   "metadata": {
    "scrolled": false
   },
   "outputs": [
    {
     "data": {
      "text/plain": [
       "array([0, 1, 9], dtype=object)"
      ]
     },
     "execution_count": 12,
     "metadata": {},
     "output_type": "execute_result"
    }
   ],
   "source": [
    "house['waterfront'].unique()"
   ]
  },
  {
   "cell_type": "markdown",
   "id": "00c40b30",
   "metadata": {},
   "source": [
    "We can see that there is an unusual value \"9\" in the unique values of column \"waterfront.\" Hence, we need to look at the observations that have waterfront column equal to 9"
   ]
  },
  {
   "cell_type": "code",
   "execution_count": 11,
   "id": "f800dfea",
   "metadata": {
    "scrolled": true
   },
   "outputs": [
    {
     "data": {
      "text/html": [
       "<div>\n",
       "<style scoped>\n",
       "    .dataframe tbody tr th:only-of-type {\n",
       "        vertical-align: middle;\n",
       "    }\n",
       "\n",
       "    .dataframe tbody tr th {\n",
       "        vertical-align: top;\n",
       "    }\n",
       "\n",
       "    .dataframe thead th {\n",
       "        text-align: right;\n",
       "    }\n",
       "</style>\n",
       "<table border=\"1\" class=\"dataframe\">\n",
       "  <thead>\n",
       "    <tr style=\"text-align: right;\">\n",
       "      <th></th>\n",
       "      <th>id</th>\n",
       "      <th>price</th>\n",
       "      <th>bedrooms</th>\n",
       "      <th>bathrooms</th>\n",
       "      <th>sqm_living</th>\n",
       "      <th>sqm_lot</th>\n",
       "      <th>waterfront</th>\n",
       "    </tr>\n",
       "  </thead>\n",
       "  <tbody>\n",
       "    <tr>\n",
       "      <th>9999</th>\n",
       "      <td>9999</td>\n",
       "      <td>99999999.0</td>\n",
       "      <td>99</td>\n",
       "      <td>99</td>\n",
       "      <td>99999.0</td>\n",
       "      <td>99999.0</td>\n",
       "      <td>9</td>\n",
       "    </tr>\n",
       "  </tbody>\n",
       "</table>\n",
       "</div>"
      ],
      "text/plain": [
       "        id       price  bedrooms  bathrooms  sqm_living  sqm_lot waterfront\n",
       "9999  9999  99999999.0        99         99     99999.0  99999.0          9"
      ]
     },
     "execution_count": 11,
     "metadata": {},
     "output_type": "execute_result"
    }
   ],
   "source": [
    "waterfront9 = house[house['waterfront'] == 9]\n",
    "waterfront9.head()"
   ]
  },
  {
   "cell_type": "markdown",
   "id": "bbc9bf60",
   "metadata": {},
   "source": [
    "As we can see, there is an observation with weird values at id 9999. This could be a mistake in the dataset, and hence we need to delete this observation:"
   ]
  },
  {
   "cell_type": "code",
   "execution_count": 12,
   "id": "eec54a73",
   "metadata": {
    "scrolled": true
   },
   "outputs": [],
   "source": [
    "house = house.drop(9999)"
   ]
  },
  {
   "cell_type": "markdown",
   "id": "17451888",
   "metadata": {},
   "source": [
    "After deleting the unusual observation, we check the unique values of each column, and the specific unique values of column \"waterfront\" again:"
   ]
  },
  {
   "cell_type": "code",
   "execution_count": 13,
   "id": "0d518e64",
   "metadata": {},
   "outputs": [
    {
     "data": {
      "text/plain": [
       "id            21600\n",
       "price          4024\n",
       "bedrooms         13\n",
       "bathrooms         9\n",
       "sqm_living     1037\n",
       "sqm_lot        9776\n",
       "waterfront        2\n",
       "dtype: int64"
      ]
     },
     "execution_count": 13,
     "metadata": {},
     "output_type": "execute_result"
    }
   ],
   "source": [
    "house.nunique() "
   ]
  },
  {
   "cell_type": "code",
   "execution_count": 14,
   "id": "e9875ee8",
   "metadata": {},
   "outputs": [
    {
     "data": {
      "text/plain": [
       "array([0, 1], dtype=object)"
      ]
     },
     "execution_count": 14,
     "metadata": {},
     "output_type": "execute_result"
    }
   ],
   "source": [
    "house['waterfront'].unique() "
   ]
  },
  {
   "cell_type": "markdown",
   "id": "0a78237d",
   "metadata": {},
   "source": [
    "Now, we can see that the column \"waterfront\" correctly represent two scenarios: 0 and 1."
   ]
  },
  {
   "cell_type": "markdown",
   "id": "b52e8167",
   "metadata": {},
   "source": [
    "### Missing Data"
   ]
  },
  {
   "cell_type": "code",
   "execution_count": 15,
   "id": "70191f5e",
   "metadata": {},
   "outputs": [
    {
     "data": {
      "text/plain": [
       "id            0\n",
       "price         0\n",
       "bedrooms      0\n",
       "bathrooms     0\n",
       "sqm_living    0\n",
       "sqm_lot       0\n",
       "waterfront    0\n",
       "dtype: int64"
      ]
     },
     "execution_count": 15,
     "metadata": {},
     "output_type": "execute_result"
    }
   ],
   "source": [
    "# Counts the number of missing values in each column \n",
    "house.isna().sum() "
   ]
  },
  {
   "cell_type": "markdown",
   "id": "afd8629f",
   "metadata": {},
   "source": [
    "We can see that there are no missing values. Hence, we do not need deal with missing values in this dataset"
   ]
  },
  {
   "cell_type": "markdown",
   "id": "f374ceef",
   "metadata": {},
   "source": [
    "### Exploratory Data Analysis on the House Prices"
   ]
  },
  {
   "cell_type": "markdown",
   "id": "c6d47e39",
   "metadata": {},
   "source": [
    "First, we can perform some descriptive data analysis on the column \"price\""
   ]
  },
  {
   "cell_type": "code",
   "execution_count": 16,
   "id": "1b79f68e",
   "metadata": {},
   "outputs": [
    {
     "data": {
      "text/plain": [
       "price\n",
       "350000.0     172\n",
       "450000.0     172\n",
       "550000.0     159\n",
       "500000.0     152\n",
       "425000.0     150\n",
       "            ... \n",
       "449228.0       1\n",
       "828500.0       1\n",
       "607010.0       1\n",
       "1362500.0      1\n",
       "541800.0       1\n",
       "Name: count, Length: 4024, dtype: int64"
      ]
     },
     "execution_count": 16,
     "metadata": {},
     "output_type": "execute_result"
    }
   ],
   "source": [
    "house['price'].value_counts()"
   ]
  },
  {
   "cell_type": "code",
   "execution_count": 17,
   "id": "662e8b26",
   "metadata": {},
   "outputs": [
    {
     "data": {
      "text/plain": [
       "count      21600.000\n",
       "mean      540082.429\n",
       "std       367144.535\n",
       "min        75000.000\n",
       "25%       321500.000\n",
       "50%       450000.000\n",
       "75%       645000.000\n",
       "max      7700000.000\n",
       "Name: price, dtype: float64"
      ]
     },
     "execution_count": 17,
     "metadata": {},
     "output_type": "execute_result"
    }
   ],
   "source": [
    "house['price'].describe().round(3)"
   ]
  },
  {
   "cell_type": "code",
   "execution_count": 19,
   "id": "0b8f606e",
   "metadata": {},
   "outputs": [
    {
     "data": {
      "text/html": [
       "<div>\n",
       "<style scoped>\n",
       "    .dataframe tbody tr th:only-of-type {\n",
       "        vertical-align: middle;\n",
       "    }\n",
       "\n",
       "    .dataframe tbody tr th {\n",
       "        vertical-align: top;\n",
       "    }\n",
       "\n",
       "    .dataframe thead th {\n",
       "        text-align: right;\n",
       "    }\n",
       "</style>\n",
       "<table border=\"1\" class=\"dataframe\">\n",
       "  <thead>\n",
       "    <tr style=\"text-align: right;\">\n",
       "      <th>col_0</th>\n",
       "      <th>count</th>\n",
       "    </tr>\n",
       "    <tr>\n",
       "      <th>waterfront</th>\n",
       "      <th></th>\n",
       "    </tr>\n",
       "  </thead>\n",
       "  <tbody>\n",
       "    <tr>\n",
       "      <th>0</th>\n",
       "      <td>21437</td>\n",
       "    </tr>\n",
       "    <tr>\n",
       "      <th>1</th>\n",
       "      <td>163</td>\n",
       "    </tr>\n",
       "  </tbody>\n",
       "</table>\n",
       "</div>"
      ],
      "text/plain": [
       "col_0       count\n",
       "waterfront       \n",
       "0           21437\n",
       "1             163"
      ]
     },
     "execution_count": 19,
     "metadata": {},
     "output_type": "execute_result"
    }
   ],
   "source": [
    "tab=pd.crosstab(house['waterfront'], columns=\"count\");tab   # count for each no. of waterfront"
   ]
  },
  {
   "cell_type": "code",
   "execution_count": 20,
   "id": "4c4a8fdf",
   "metadata": {},
   "outputs": [
    {
     "data": {
      "image/png": "[encoded data removed]",
      "text/plain": [
       "<Figure size 640x480 with 1 Axes>"
      ]
     },
     "metadata": {},
     "output_type": "display_data"
    }
   ],
   "source": [
    "# Construct a count plot for the two scenarios of waterfront\n",
    "ax = sns.countplot(x=\"waterfront\", data=house)"
   ]
  },
  {
   "cell_type": "markdown",
   "id": "37e74977",
   "metadata": {},
   "source": [
    "As we can see, the proportion of houses that are waterfront is significantly small compared to the proportion of houses with no waterfront. Now, we can seperate the dataset into two groups: Group 1 consists of houses with waterfront and Group 2 consists of houses without waterfront "
   ]
  },
  {
   "cell_type": "code",
   "execution_count": 21,
   "id": "2f6be846",
   "metadata": {
    "scrolled": true
   },
   "outputs": [
    {
     "name": "stdout",
     "output_type": "stream",
     "text": [
      "count      21437.000\n",
      "mean      531552.674\n",
      "std       341602.098\n",
      "min        75000.000\n",
      "25%       320000.000\n",
      "50%       450000.000\n",
      "75%       639900.000\n",
      "max      7700000.000\n",
      "Name: price, dtype: float64\n",
      "count        163.000\n",
      "mean     1661876.025\n",
      "std      1120371.731\n",
      "min       285000.000\n",
      "25%       760000.000\n",
      "50%      1400000.000\n",
      "75%      2215000.000\n",
      "max      7062500.000\n",
      "Name: price, dtype: float64\n"
     ]
    }
   ],
   "source": [
    "waterfront0 = house[house['waterfront'] == 0]\n",
    "waterfront1 = house[house['waterfront'] == 1]\n",
    "print(waterfront0['price'].describe().round(3))\n",
    "print(waterfront1['price'].describe().round(3))"
   ]
  },
  {
   "cell_type": "markdown",
   "id": "63d4853a",
   "metadata": {},
   "source": [
    "We can use boxplots to visualize the price of the two groups:"
   ]
  },
  {
   "cell_type": "code",
   "execution_count": 2,
   "id": "d8cff1ec",
   "metadata": {
    "scrolled": true
   },
   "outputs": [
    {
     "ename": "NameError",
     "evalue": "name 'plt' is not defined",
     "output_type": "error",
     "traceback": [
      "\u001b[0;31m---------------------------------------------------------------------------\u001b[0m",
      "\u001b[0;31mNameError\u001b[0m                                 Traceback (most recent call last)",
      "Cell \u001b[0;32mIn[2], line 1\u001b[0m\n\u001b[0;32m----> 1\u001b[0m plt\u001b[38;5;241m.\u001b[39mfigure(figsize\u001b[38;5;241m=\u001b[39m(\u001b[38;5;241m15\u001b[39m,\u001b[38;5;241m6\u001b[39m))\n\u001b[1;32m      2\u001b[0m plt\u001b[38;5;241m.\u001b[39msubplot(\u001b[38;5;241m1\u001b[39m,\u001b[38;5;241m2\u001b[39m,\u001b[38;5;241m1\u001b[39m)\n\u001b[1;32m      3\u001b[0m sns\u001b[38;5;241m.\u001b[39mboxplot(x\u001b[38;5;241m=\u001b[39m\u001b[38;5;124m'\u001b[39m\u001b[38;5;124mprice\u001b[39m\u001b[38;5;124m'\u001b[39m, data\u001b[38;5;241m=\u001b[39mwaterfront0)\n",
      "\u001b[0;31mNameError\u001b[0m: name 'plt' is not defined"
     ]
    }
   ],
   "source": [
    "plt.figure(figsize=(15,6))\n",
    "plt.subplot(1,2,1)\n",
    "sns.boxplot(x='price', data=waterfront0)\n",
    "plt.title('No Waterfront')\n",
    "plt.subplot(1,2,2)\n",
    "sns.boxplot(x='price', data=waterfront1)\n",
    "plt.title('Have Waterfront')"
   ]
  },
  {
   "cell_type": "markdown",
   "id": "15efdfa9",
   "metadata": {},
   "source": [
    "Looking at the two boxplots, we can see the following information about the two groups:\n",
    "    \n",
    "**Group 1 (No waterfront):**\n",
    "- Most house prices fall within 320000 and 639900 \n",
    "- However, there is many outliers\n",
    "\n",
    "**Group 2 (Have waterfront):**\n",
    "- Most house prices fall within 760000 and 2215000\n",
    "- There are not many outliers \n",
    "\n",
    "With these information, we can see that prices of house that do have waterfront are typically higher than houses that do not have waterfront. To examine the distribution of these two groups better, we can use histograms"
   ]
  },
  {
   "cell_type": "code",
   "execution_count": 23,
   "id": "cd11f10e",
   "metadata": {},
   "outputs": [
    {
     "data": {
      "text/plain": [
       "Text(0.5, 1.0, 'Have Waterfront')"
      ]
     },
     "execution_count": 23,
     "metadata": {},
     "output_type": "execute_result"
    },
    {
     "data": {
      "image/png": "[encoded data removed]",
      "text/plain": [
       "<Figure size 1500x600 with 2 Axes>"
      ]
     },
     "metadata": {},
     "output_type": "display_data"
    }
   ],
   "source": [
    "plt.figure(figsize=(15,6))\n",
    "plt.subplot(1,2,1)\n",
    "sns.histplot(x='price', data=waterfront0, bins=100)\n",
    "plt.title('No Waterfront')\n",
    "plt.subplot(1,2,2)\n",
    "sns.histplot(x='price', data=waterfront1, bins=50)\n",
    "plt.title('Have Waterfront')"
   ]
  },
  {
   "cell_type": "markdown",
   "id": "ecc53d9c",
   "metadata": {},
   "source": [
    "With these histograms, we can observe these similarities and differences about the distribution of the two groups:\n",
    "\n",
    "**Similarities**\n",
    "\n",
    "As both distributions are skewed to the right (Asymetric):\n",
    "- The mean prices are larger than the median price, due to high value outliers\n",
    "- Most observation cluster towards lower prices, but there are some extreme high prices. Hence, with these distribution, we can say that most of the house prices are low, but there are a few houses that have significantly high prices (Outliers)\n",
    "\n",
    "\n",
    "**Differences**\n",
    "\n",
    "- Waterfront group has a higher mean (1661876.025) compared to No waterfront group (531552.674). However, there is many outliers in both dataset, so the mean may not be an effective summary statistic\n",
    "- Waterfront group has a higher median (1400000) compared to No waterfront group (450000). Median is less likely to be affected by outliers\n",
    "- Waterfront group has a higher standard deviation (1120371.731) compared to No waterfront group (341602.098). Hence, the distribution of Waterfront group has a higher variability\n",
    "\n"
   ]
  },
  {
   "cell_type": "markdown",
   "id": "4090bb11",
   "metadata": {},
   "source": [
    "## Question 2\n",
    "\n",
    "Conduct (with $α = 0.05$) the appropriate t-test, median and Mann-Whitney tests, to\n",
    "assess whether waterfront house prices are typically higher (the alternative of unequal\n",
    "prices is fine for the median test). Assess all assumptions made.\n"
   ]
  },
  {
   "cell_type": "markdown",
   "id": "76730b07",
   "metadata": {},
   "source": [
    "### Student's t test"
   ]
  },
  {
   "cell_type": "code",
   "execution_count": 24,
   "id": "e356eb2b",
   "metadata": {},
   "outputs": [],
   "source": [
    "from scipy import stats"
   ]
  },
  {
   "cell_type": "code",
   "execution_count": 25,
   "id": "65ceb62b",
   "metadata": {},
   "outputs": [
    {
     "data": {
      "text/plain": [
       "TtestResult(statistic=-12.875998525086034, pvalue=1.378018391898827e-26, df=162.22910664622552)"
      ]
     },
     "execution_count": 25,
     "metadata": {},
     "output_type": "execute_result"
    }
   ],
   "source": [
    "stats.ttest_ind(waterfront0['price'], waterfront1['price'], equal_var = False)\n"
   ]
  },
  {
   "cell_type": "markdown",
   "id": "bf65ce61",
   "metadata": {},
   "source": [
    "The hypotheses are:\n",
    "$H_0:$ the two group means are equal: $\\mu_{\\text{NW}} = \\mu_{\\text{W}}$. \n",
    "$H_1:$ the two group means are not equal: $\\mu_{\\text{NW}} \\neq \\mu_{\\text{W}}$.  \n",
    "\n",
    "We choose $\\alpha=0.05$ as standard.  \n",
    "\n",
    "The test stat is $t = -12.88$, which has a Student-t distribution with approximately 162 degrees of freedom, if the null of equality of means is, and the assumptions are also, true. Here, the p-val is $P(|t_{162}| \\geq -12.88) = 1.38 \\times 10^{-26}$, which is very close to 0. This is $< 0.05$, so we reject the null and conclude that the two group means are significantly different to each other. Therefore, we can say that there is a significant relationship between the house prices and waterfront. In other words, houses that have waterfront tend to have significantly higher prices than houses that does not have waterfront\n",
    "\n",
    "The test assumed that the data are iid in each group, the two groups are independent of each other and the 4th moment of the house prices in each group is finite. \n",
    "1. The 1st assumption relies on house prices independently of each other, which means that house prices are not influencing each other. In this problem, we can assume this is true; however, in reality, house prices can influence each other due to competition. \n",
    "2. The 2nd assumption is that prices of waterfront houses do not influence the prices of non-waterfront houses, or vice versa. We also can assume this assumption, although these influences can appear in real life. \n",
    "3. The final assumption will be satisfied if house price is a bounded variable. We can see that house prices have a lower bound of 0. Moreover, as each house has finite price, we can also say that house prices are implicitly bounded. Therefore, the 4th moment of house prices would be finite and the 3rd assumption is satisfied. "
   ]
  },
  {
   "cell_type": "markdown",
   "id": "9f0b4a19",
   "metadata": {},
   "source": [
    "### Median Test"
   ]
  },
  {
   "cell_type": "code",
   "execution_count": 26,
   "id": "2cba8a27",
   "metadata": {},
   "outputs": [],
   "source": [
    "from scipy.stats import median_test"
   ]
  },
  {
   "cell_type": "code",
   "execution_count": 27,
   "id": "d7481d58",
   "metadata": {},
   "outputs": [
    {
     "data": {
      "text/plain": [
       "MedianTestResult(statistic=120.40549039211706, pvalue=5.156582160773728e-28, median=450000.0, table=array([[10591,   152],\n",
       "       [10674,    11]]))"
      ]
     },
     "execution_count": 27,
     "metadata": {},
     "output_type": "execute_result"
    }
   ],
   "source": [
    "median_test(waterfront0['price'], waterfront1['price'], ties = \"ignore\")"
   ]
  },
  {
   "cell_type": "markdown",
   "id": "e53832c5",
   "metadata": {},
   "source": [
    "The hypotheses are: \n",
    "\n",
    "$H_0: \\mbox{median}_{NW} = \\mbox{median}_{W}$ vs $H_1: \\mbox{median}_{NW} \\neq \\mbox{median}_{W}$.\n",
    "\n",
    "We choose $\\alpha=0.05$ as standard.  \n",
    "\n",
    "The test statistic is $120.41$, which under the null follows a $\\chi^2_1$ distribution. In this case, the p-value is $P(\\chi^2_1 > 120.41) = 5.16 \\times 10^{-28}$, which is very close to 0. This is $< 0.05$, so we reject the null and conclude that the two group medians are significantly different to each other. We conclude that there is a significant relationship between the house prices and waterfront.\n",
    "\n",
    "The assumptions made are: \n",
    "\n",
    "1. Independence of the two groups. Again, in this problem, we assume that this is true.\n",
    "\n",
    "2. Each cell in the contingency table has expected value at least 5. This assumption is met, as all 4 of the values in the contigency table are larger than 5 (10591, 152, 10674, 11).\n",
    "\n",
    "3. Data are i.i.d. in each group. Again, in this problem, we assume this is true. \n",
    "\n",
    "4. Data are at least on the ordinal scale: House price is a numerical variable, so this is satisfied."
   ]
  },
  {
   "cell_type": "markdown",
   "id": "2412defc",
   "metadata": {},
   "source": [
    "### Mann-Whitney U Test"
   ]
  },
  {
   "cell_type": "code",
   "execution_count": 28,
   "id": "d772547b",
   "metadata": {},
   "outputs": [],
   "source": [
    "from scipy.stats import mannwhitneyu"
   ]
  },
  {
   "cell_type": "code",
   "execution_count": 29,
   "id": "4cf1a860",
   "metadata": {},
   "outputs": [
    {
     "data": {
      "text/plain": [
       "MannwhitneyuResult(statistic=405270.0, pvalue=3.2429468690370975e-64)"
      ]
     },
     "execution_count": 29,
     "metadata": {},
     "output_type": "execute_result"
    }
   ],
   "source": [
    "mannwhitneyu(waterfront0['price'], waterfront1['price'], alternative='two-sided')"
   ]
  },
  {
   "cell_type": "markdown",
   "id": "e3d29726",
   "metadata": {},
   "source": [
    "The hypotheses are: \n",
    "\n",
    "$H_0:$ House prices in group NW has the same distribution as House prices in group W: $P(NW > W) = 0.5$; vs \n",
    "\n",
    "$H_1:$ House prices in group NW does not have the same distribution as House prices in group W: $P(NW > W) \\neq 0.5$.\n",
    "\n",
    "We choose $\\alpha=0.05$ as standard.  \n",
    "\n",
    "The test statistic assesses whether there is a difference in the sum of the ranks in each group. Here it is $U = 405270$, which under the null follows a large sample normal distribution. In this case, the p-value is $ 3.24 \\times 10^{-64}$, which is the two-sided p-value from a standard normal distribution, where $Z$ is the standardised value of $U$. This is $< 0.05$, thus we can reject the null hypothesis. We conclude that there is a significant difference in the distribution of house prices between the two groups.\n",
    "\n",
    "The assumptions made are: \n",
    "1. Independence of the two groups. Again, we assume this is true\n",
    "\n",
    "2. Data are i.i.d. in each group. Again, we assume this is true\n",
    "\n",
    "3. Each group's sample size is large enough for the CLT to work: We only neded at least 8 in each group, so sample sizes is enough here (Group 0: 21437, Group 1: 163)\n",
    "\n",
    "4. Data are at least on the ordinal scale:  House price is a numerical variable, so this is satisfied.\n",
    "\n",
    "The value $U=405270$ here takes each value in group NW and counts the number of values in group W that are below it, adding these counts up. Thus, the total number of group W values below group NW values is $U = 405270$."
   ]
  },
  {
   "cell_type": "markdown",
   "id": "a38a4d68",
   "metadata": {},
   "source": [
    "## Question 3\n",
    "\n",
    "Which test’s result do you believe the most in Task 2? Discuss and explain."
   ]
  },
  {
   "cell_type": "markdown",
   "id": "9d569bda",
   "metadata": {},
   "source": [
    "We can compare the p-values of each test:\n",
    "\n",
    "P-value list: \n",
    "\n",
    "- T-test: $1.3 \\times 10^{-26}$\n",
    "- Median: $5.16 \\times 10^{-28}$\n",
    "- MWU: $3.24 \\times 10^{-64}$\n",
    "\n",
    "In this problem, the t-test is has very low power due to the high amount of outliers in both groups. The median test is valid, however this type of test has very low power. The MWU test is valid and has higher power than the median test. The MWU test also has the lowest p-value, suggesting stronger evidence against the null hypothesis\n",
    "\n",
    "Therefore, we can conclude that the MWU test is the most valid test."
   ]
  },
  {
   "cell_type": "markdown",
   "id": "6d5890ef",
   "metadata": {},
   "source": [
    "## Question 4\n",
    "\n",
    "Conduct an appropriate exploratory analysis to assess whether there may be a linear\n",
    "relationship between houses’ prices and living area size in square meters"
   ]
  },
  {
   "cell_type": "markdown",
   "id": "a9dfd4a7",
   "metadata": {},
   "source": [
    "First, we examine the houses' prices and living area in square meters variables"
   ]
  },
  {
   "cell_type": "code",
   "execution_count": 30,
   "id": "794ad186",
   "metadata": {
    "scrolled": true
   },
   "outputs": [
    {
     "data": {
      "text/plain": [
       "count      21600.000\n",
       "mean      540082.429\n",
       "std       367144.535\n",
       "min        75000.000\n",
       "25%       321500.000\n",
       "50%       450000.000\n",
       "75%       645000.000\n",
       "max      7700000.000\n",
       "Name: price, dtype: float64"
      ]
     },
     "execution_count": 30,
     "metadata": {},
     "output_type": "execute_result"
    }
   ],
   "source": [
    "house['price'].describe().round(3)"
   ]
  },
  {
   "cell_type": "code",
   "execution_count": 31,
   "id": "4ea3673f",
   "metadata": {},
   "outputs": [
    {
     "data": {
      "text/plain": [
       "count    21600.000\n",
       "mean       193.232\n",
       "std         85.322\n",
       "min         26.942\n",
       "25%        132.781\n",
       "50%        177.443\n",
       "75%        236.901\n",
       "max       1257.897\n",
       "Name: sqm_living, dtype: float64"
      ]
     },
     "execution_count": 31,
     "metadata": {},
     "output_type": "execute_result"
    }
   ],
   "source": [
    "house['sqm_living'].describe().round(3)"
   ]
  },
  {
   "cell_type": "markdown",
   "id": "fd4431e1",
   "metadata": {},
   "source": [
    "Next, we can use  boxplots to examine the variability and the distribution of the two variables"
   ]
  },
  {
   "cell_type": "code",
   "execution_count": 33,
   "id": "26e52647",
   "metadata": {},
   "outputs": [
    {
     "data": {
      "text/plain": [
       "Text(0.5, 1.0, 'Living Area')"
      ]
     },
     "execution_count": 33,
     "metadata": {},
     "output_type": "execute_result"
    },
    {
     "data": {
      "image/png": "[encoded data removed]",
      "text/plain": [
       "<Figure size 1500x600 with 2 Axes>"
      ]
     },
     "metadata": {},
     "output_type": "display_data"
    }
   ],
   "source": [
    "plt.figure(figsize=(15,6))\n",
    "plt.subplot(1,2,1)\n",
    "sns.boxplot(x='price', data=house)\n",
    "plt.title('House Prices')\n",
    "plt.subplot(1,2,2)\n",
    "sns.boxplot(x='sqm_living', data=house)\n",
    "plt.title('Living Area')"
   ]
  },
  {
   "cell_type": "markdown",
   "id": "c7cf253a",
   "metadata": {},
   "source": [
    "With these plots, we can see that there are a large number of outliers for both variables"
   ]
  },
  {
   "cell_type": "markdown",
   "id": "02f6c6d9",
   "metadata": {},
   "source": [
    "As both of the houses' prices and living area in square meters are numerical variables, we can use a scatter plot to examine the relationship between the two variables"
   ]
  },
  {
   "cell_type": "code",
   "execution_count": 34,
   "id": "62831097",
   "metadata": {},
   "outputs": [
    {
     "data": {
      "text/plain": [
       "Text(0.5, 1.0, 'Scatter Plot of House Prices and Living Area Square Meters')"
      ]
     },
     "execution_count": 34,
     "metadata": {},
     "output_type": "execute_result"
    },
    {
     "data": {
      "image/png": "[encoded data removed]",
      "text/plain": [
       "<Figure size 640x480 with 1 Axes>"
      ]
     },
     "metadata": {},
     "output_type": "display_data"
    }
   ],
   "source": [
    "plt.scatter(house['price'],house['sqm_living'])\n",
    "plt.title(\"Scatter Plot of House Prices and Living Area Square Meters\")"
   ]
  },
  {
   "cell_type": "code",
   "execution_count": 35,
   "id": "163618ed",
   "metadata": {
    "scrolled": true
   },
   "outputs": [
    {
     "data": {
      "text/plain": [
       "<seaborn.axisgrid.JointGrid at 0x16c01cf50>"
      ]
     },
     "execution_count": 35,
     "metadata": {},
     "output_type": "execute_result"
    },
    {
     "data": {
      "image/png": "[encoded data removed]",
      "text/plain": [
       "<Figure size 600x600 with 3 Axes>"
      ]
     },
     "metadata": {},
     "output_type": "display_data"
    }
   ],
   "source": [
    "sns.jointplot(x=house['price'], y=house['sqm_living'], kind='reg')\n"
   ]
  },
  {
   "cell_type": "code",
   "execution_count": 36,
   "id": "eeada54c",
   "metadata": {},
   "outputs": [
    {
     "data": {
      "text/plain": [
       "array([[1.        , 0.70191473],\n",
       "       [0.70191473, 1.        ]])"
      ]
     },
     "execution_count": 36,
     "metadata": {},
     "output_type": "execute_result"
    }
   ],
   "source": [
    "np.corrcoef(house['price'], house['sqm_living'])"
   ]
  },
  {
   "cell_type": "markdown",
   "id": "24576a61",
   "metadata": {},
   "source": [
    "### Conclusion\n",
    "\n",
    "As we can see from the both graphs, the houses' prices and the living area square meters have a very strong relationship. The large sample size ($21600$) means that the strong correlation of $0.7$ is highly significantly different to 0 ($p-val = 0)$. Therefore, there is a high chance that there is a strong linear relationship between houses' prices and living area square meters. "
   ]
  },
  {
   "cell_type": "markdown",
   "id": "20e72805",
   "metadata": {},
   "source": [
    "## Question 5\n",
    "\n",
    "Conduct a simple linear regression analysis, first using OLS and then using LAD estimation, for houses’ prices on living area size in square meters. Fully assess all assumptions"
   ]
  },
  {
   "cell_type": "markdown",
   "id": "e2c50358",
   "metadata": {},
   "source": [
    "### OLS (Ordinary Least Square) Estimation\n",
    "\n",
    "With the scatterplots in Question 4, we can observe that the variance may not be constant, as the scatterplot have the heteroskedasticity pattern of the graph fan out overtime. Hence, with the OLS estimation, we can fit the model using heteroskedasticity-robust SEs "
   ]
  },
  {
   "cell_type": "code",
   "execution_count": 37,
   "id": "f165e943",
   "metadata": {
    "scrolled": true
   },
   "outputs": [
    {
     "data": {
      "text/html": [
       "<table class=\"simpletable\">\n",
       "<caption>OLS Regression Results</caption>\n",
       "<tr>\n",
       "  <th>Dep. Variable:</th>          <td>price</td>      <th>  R-squared:         </th>  <td>   0.493</td>  \n",
       "</tr>\n",
       "<tr>\n",
       "  <th>Model:</th>                   <td>OLS</td>       <th>  Adj. R-squared:    </th>  <td>   0.493</td>  \n",
       "</tr>\n",
       "<tr>\n",
       "  <th>Method:</th>             <td>Least Squares</td>  <th>  F-statistic:       </th>  <td>   2466.</td>  \n",
       "</tr>\n",
       "<tr>\n",
       "  <th>Date:</th>             <td>Wed, 27 Mar 2024</td> <th>  Prob (F-statistic):</th>   <td>  0.00</td>   \n",
       "</tr>\n",
       "<tr>\n",
       "  <th>Time:</th>                 <td>22:10:01</td>     <th>  Log-Likelihood:    </th> <td>-3.0009e+05</td>\n",
       "</tr>\n",
       "<tr>\n",
       "  <th>No. Observations:</th>      <td> 21600</td>      <th>  AIC:               </th>  <td>6.002e+05</td> \n",
       "</tr>\n",
       "<tr>\n",
       "  <th>Df Residuals:</th>          <td> 21598</td>      <th>  BIC:               </th>  <td>6.002e+05</td> \n",
       "</tr>\n",
       "<tr>\n",
       "  <th>Df Model:</th>              <td>     1</td>      <th>                     </th>      <td> </td>     \n",
       "</tr>\n",
       "<tr>\n",
       "  <th>Covariance Type:</th>         <td>HC0</td>       <th>                     </th>      <td> </td>     \n",
       "</tr>\n",
       "</table>\n",
       "<table class=\"simpletable\">\n",
       "<tr>\n",
       "       <td></td>         <th>coef</th>     <th>std err</th>      <th>z</th>      <th>P>|z|</th>  <th>[0.025</th>    <th>0.975]</th>  \n",
       "</tr>\n",
       "<tr>\n",
       "  <th>Intercept</th>  <td>-4.355e+04</td> <td> 1.08e+04</td> <td>   -4.031</td> <td> 0.000</td> <td>-6.47e+04</td> <td>-2.24e+04</td>\n",
       "</tr>\n",
       "<tr>\n",
       "  <th>sqm_living</th> <td> 3020.3863</td> <td>   60.825</td> <td>   49.657</td> <td> 0.000</td> <td> 2901.172</td> <td> 3139.601</td>\n",
       "</tr>\n",
       "</table>\n",
       "<table class=\"simpletable\">\n",
       "<tr>\n",
       "  <th>Omnibus:</th>       <td>14824.811</td> <th>  Durbin-Watson:     </th>  <td>   1.982</td> \n",
       "</tr>\n",
       "<tr>\n",
       "  <th>Prob(Omnibus):</th>  <td> 0.000</td>   <th>  Jarque-Bera (JB):  </th> <td>546032.506</td>\n",
       "</tr>\n",
       "<tr>\n",
       "  <th>Skew:</th>           <td> 2.824</td>   <th>  Prob(JB):          </th>  <td>    0.00</td> \n",
       "</tr>\n",
       "<tr>\n",
       "  <th>Kurtosis:</th>       <td>26.975</td>   <th>  Cond. No.          </th>  <td>    523.</td> \n",
       "</tr>\n",
       "</table><br/><br/>Notes:<br/>[1] Standard Errors are heteroscedasticity robust (HC0)"
      ],
      "text/latex": [
       "\\begin{center}\n",
       "\\begin{tabular}{lclc}\n",
       "\\toprule\n",
       "\\textbf{Dep. Variable:}    &      price       & \\textbf{  R-squared:         } &      0.493   \\\\\n",
       "\\textbf{Model:}            &       OLS        & \\textbf{  Adj. R-squared:    } &      0.493   \\\\\n",
       "\\textbf{Method:}           &  Least Squares   & \\textbf{  F-statistic:       } &      2466.   \\\\\n",
       "\\textbf{Date:}             & Wed, 27 Mar 2024 & \\textbf{  Prob (F-statistic):} &      0.00    \\\\\n",
       "\\textbf{Time:}             &     22:10:01     & \\textbf{  Log-Likelihood:    } & -3.0009e+05  \\\\\n",
       "\\textbf{No. Observations:} &       21600      & \\textbf{  AIC:               } &  6.002e+05   \\\\\n",
       "\\textbf{Df Residuals:}     &       21598      & \\textbf{  BIC:               } &  6.002e+05   \\\\\n",
       "\\textbf{Df Model:}         &           1      & \\textbf{                     } &              \\\\\n",
       "\\textbf{Covariance Type:}  &       HC0        & \\textbf{                     } &              \\\\\n",
       "\\bottomrule\n",
       "\\end{tabular}\n",
       "\\begin{tabular}{lcccccc}\n",
       "                     & \\textbf{coef} & \\textbf{std err} & \\textbf{z} & \\textbf{P$> |$z$|$} & \\textbf{[0.025} & \\textbf{0.975]}  \\\\\n",
       "\\midrule\n",
       "\\textbf{Intercept}   &   -4.355e+04  &     1.08e+04     &    -4.031  &         0.000        &    -6.47e+04    &    -2.24e+04     \\\\\n",
       "\\textbf{sqm\\_living} &    3020.3863  &       60.825     &    49.657  &         0.000        &     2901.172    &     3139.601     \\\\\n",
       "\\bottomrule\n",
       "\\end{tabular}\n",
       "\\begin{tabular}{lclc}\n",
       "\\textbf{Omnibus:}       & 14824.811 & \\textbf{  Durbin-Watson:     } &     1.982   \\\\\n",
       "\\textbf{Prob(Omnibus):} &    0.000  & \\textbf{  Jarque-Bera (JB):  } & 546032.506  \\\\\n",
       "\\textbf{Skew:}          &    2.824  & \\textbf{  Prob(JB):          } &      0.00   \\\\\n",
       "\\textbf{Kurtosis:}      &   26.975  & \\textbf{  Cond. No.          } &      523.   \\\\\n",
       "\\bottomrule\n",
       "\\end{tabular}\n",
       "%\\caption{OLS Regression Results}\n",
       "\\end{center}\n",
       "\n",
       "Notes: \\newline\n",
       " [1] Standard Errors are heteroscedasticity robust (HC0)"
      ],
      "text/plain": [
       "<class 'statsmodels.iolib.summary.Summary'>\n",
       "\"\"\"\n",
       "                            OLS Regression Results                            \n",
       "==============================================================================\n",
       "Dep. Variable:                  price   R-squared:                       0.493\n",
       "Model:                            OLS   Adj. R-squared:                  0.493\n",
       "Method:                 Least Squares   F-statistic:                     2466.\n",
       "Date:                Wed, 27 Mar 2024   Prob (F-statistic):               0.00\n",
       "Time:                        22:10:01   Log-Likelihood:            -3.0009e+05\n",
       "No. Observations:               21600   AIC:                         6.002e+05\n",
       "Df Residuals:                   21598   BIC:                         6.002e+05\n",
       "Df Model:                           1                                         \n",
       "Covariance Type:                  HC0                                         \n",
       "==============================================================================\n",
       "                 coef    std err          z      P>|z|      [0.025      0.975]\n",
       "------------------------------------------------------------------------------\n",
       "Intercept  -4.355e+04   1.08e+04     -4.031      0.000   -6.47e+04   -2.24e+04\n",
       "sqm_living  3020.3863     60.825     49.657      0.000    2901.172    3139.601\n",
       "==============================================================================\n",
       "Omnibus:                    14824.811   Durbin-Watson:                   1.982\n",
       "Prob(Omnibus):                  0.000   Jarque-Bera (JB):           546032.506\n",
       "Skew:                           2.824   Prob(JB):                         0.00\n",
       "Kurtosis:                      26.975   Cond. No.                         523.\n",
       "==============================================================================\n",
       "\n",
       "Notes:\n",
       "[1] Standard Errors are heteroscedasticity robust (HC0)\n",
       "\"\"\""
      ]
     },
     "execution_count": 37,
     "metadata": {},
     "output_type": "execute_result"
    }
   ],
   "source": [
    "import statsmodels.formula.api as smf    \n",
    "reg = smf.ols(formula='price ~ sqm_living', data=house).fit(cov_type='HC0') #OLS\n",
    "reg.summary()"
   ]
  },
  {
   "cell_type": "markdown",
   "id": "74ce87e0",
   "metadata": {},
   "source": [
    "### Result Interpretation\n",
    "\n",
    "The estimated relationship is: Price = -4.355e+04 + 3020.3863 x Sqm_living. Hence, on average, as the living area square meters increase by 1 meter, the price of a house will increase by 3020.3863 dollars. Both variables' standard errors are small relative to their means"
   ]
  },
  {
   "cell_type": "markdown",
   "id": "62b5f939",
   "metadata": {},
   "source": [
    "We can create a residual plot before assessing the assumptions:"
   ]
  },
  {
   "cell_type": "code",
   "execution_count": 40,
   "id": "9626c0d0",
   "metadata": {
    "scrolled": true
   },
   "outputs": [
    {
     "data": {
      "text/plain": [
       "Text(0.5, 1.0, 'Predictor vs residuals')"
      ]
     },
     "execution_count": 40,
     "metadata": {},
     "output_type": "execute_result"
    },
    {
     "data": {
      "image/png": "[encoded data removed]",
      "text/plain": [
       "<Figure size 600x600 with 3 Axes>"
      ]
     },
     "metadata": {},
     "output_type": "display_data"
    }
   ],
   "source": [
    "sns.jointplot(x=house['sqm_living'], y=reg.resid, kind='reg')\n",
    "ax.set_xlabel('Sqm_living')\n",
    "ax.set_ylabel('Residuals')\n",
    "ax.set_title('Predictor vs residuals')"
   ]
  },
  {
   "cell_type": "markdown",
   "id": "c83e380d",
   "metadata": {},
   "source": [
    "### Assessing Least Square Assumptions (LSA)\n",
    "\n",
    "1. Linearity: $Y = \\beta_0 + \\beta_1 X + \\varepsilon$ is the true population linear model.\n",
    "\n",
    "Through the exploratory analysis, we can see that there is a strong positive linear relationship between the two variables houses' prices and living area square meters with a large sample size, so Assumption 1 Linearity is satisfied\n",
    "\n",
    "2. Exogeneity of $E(\\varepsilon | X)$ $=0$\n",
    "\n",
    "The residual plot suggests that the typical (mean or median) residual is 0, so Assumption 2 Exogeneity is satisfied\n",
    "\n",
    "3. Independence: The data pairs $Y_i, X_i$ are i.i.d.\n",
    "\n",
    "Both variables did not display any clear trends in their plots, and are uncorrelated. Therefore, Assumption 3 is satisfied as the data give no strong or clear indication that it is not satisfied.\n",
    "\n",
    "4. 4th moment of X exists: $E(X^4)$ exists, i.e. is finite $< \\infty$.\n",
    "\n",
    "Through the countplots and boxplots of the two variables, we can observe that there are a large amount of outliers for both variables. Moreover, since prices and square meters are not bounded in any finite interval, this assumption does not seem to be satisfied and seems highly unlikely.\n",
    "\n",
    "5. Constant error variance: $Var(\\varepsilon | X)$ $=$$\\sigma^2$\n",
    "\n",
    "Both the scatterplots and the residual plot suggest that the variance is not constant, as the graph tends to fan out over time. Hence, LSA 5 is not satisfied\n",
    "\n",
    "Hence, as LSA 4 and 5 are not satisfied, we should use another estimator that is robust to outliers and infinite 4th moments.\n"
   ]
  },
  {
   "cell_type": "markdown",
   "id": "d2168e5f",
   "metadata": {},
   "source": [
    "### LAD (Least Absolute Deviations) Estimation\n",
    "\n",
    "Now, we can fit the model using LAD estimator, which is robust to outliers and infinite 4th moments"
   ]
  },
  {
   "cell_type": "code",
   "execution_count": 41,
   "id": "111694d2",
   "metadata": {
    "scrolled": true
   },
   "outputs": [
    {
     "data": {
      "text/html": [
       "<table class=\"simpletable\">\n",
       "<caption>QuantReg Regression Results</caption>\n",
       "<tr>\n",
       "  <th>Dep. Variable:</th>       <td>price</td>      <th>  Pseudo R-squared:  </th> <td>  0.2480</td> \n",
       "</tr>\n",
       "<tr>\n",
       "  <th>Model:</th>             <td>QuantReg</td>     <th>  Bandwidth:         </th> <td>3.152e+04</td>\n",
       "</tr>\n",
       "<tr>\n",
       "  <th>Method:</th>          <td>Least Squares</td>  <th>  Sparsity:          </th> <td>4.836e+05</td>\n",
       "</tr>\n",
       "<tr>\n",
       "  <th>Date:</th>          <td>Thu, 28 Mar 2024</td> <th>  No. Observations:  </th>  <td> 21600</td>  \n",
       "</tr>\n",
       "<tr>\n",
       "  <th>Time:</th>              <td>00:35:51</td>     <th>  Df Residuals:      </th>  <td> 21598</td>  \n",
       "</tr>\n",
       "<tr>\n",
       "  <th> </th>                      <td> </td>        <th>  Df Model:          </th>  <td>     1</td>  \n",
       "</tr>\n",
       "</table>\n",
       "<table class=\"simpletable\">\n",
       "<tr>\n",
       "       <td></td>         <th>coef</th>     <th>std err</th>      <th>t</th>      <th>P>|t|</th>  <th>[0.025</th>    <th>0.975]</th>  \n",
       "</tr>\n",
       "<tr>\n",
       "  <th>Intercept</th>  <td> 5.283e+04</td> <td> 4072.816</td> <td>   12.972</td> <td> 0.000</td> <td> 4.49e+04</td> <td> 6.08e+04</td>\n",
       "</tr>\n",
       "<tr>\n",
       "  <th>sqm_living</th> <td> 2332.2000</td> <td>   19.281</td> <td>  120.956</td> <td> 0.000</td> <td> 2294.407</td> <td> 2369.993</td>\n",
       "</tr>\n",
       "</table>"
      ],
      "text/latex": [
       "\\begin{center}\n",
       "\\begin{tabular}{lclc}\n",
       "\\toprule\n",
       "\\textbf{Dep. Variable:} &      price       & \\textbf{  Pseudo R-squared:  } &    0.2480   \\\\\n",
       "\\textbf{Model:}         &     QuantReg     & \\textbf{  Bandwidth:         } & 3.152e+04   \\\\\n",
       "\\textbf{Method:}        &  Least Squares   & \\textbf{  Sparsity:          } & 4.836e+05   \\\\\n",
       "\\textbf{Date:}          & Thu, 28 Mar 2024 & \\textbf{  No. Observations:  } &    21600    \\\\\n",
       "\\textbf{Time:}          &     00:35:51     & \\textbf{  Df Residuals:      } &    21598    \\\\\n",
       "\\textbf{ }              &                  & \\textbf{  Df Model:          } &        1    \\\\\n",
       "\\bottomrule\n",
       "\\end{tabular}\n",
       "\\begin{tabular}{lcccccc}\n",
       "                     & \\textbf{coef} & \\textbf{std err} & \\textbf{t} & \\textbf{P$> |$t$|$} & \\textbf{[0.025} & \\textbf{0.975]}  \\\\\n",
       "\\midrule\n",
       "\\textbf{Intercept}   &    5.283e+04  &     4072.816     &    12.972  &         0.000        &     4.49e+04    &     6.08e+04     \\\\\n",
       "\\textbf{sqm\\_living} &    2332.2000  &       19.281     &   120.956  &         0.000        &     2294.407    &     2369.993     \\\\\n",
       "\\bottomrule\n",
       "\\end{tabular}\n",
       "%\\caption{QuantReg Regression Results}\n",
       "\\end{center}"
      ],
      "text/plain": [
       "<class 'statsmodels.iolib.summary.Summary'>\n",
       "\"\"\"\n",
       "                         QuantReg Regression Results                          \n",
       "==============================================================================\n",
       "Dep. Variable:                  price   Pseudo R-squared:               0.2480\n",
       "Model:                       QuantReg   Bandwidth:                   3.152e+04\n",
       "Method:                 Least Squares   Sparsity:                    4.836e+05\n",
       "Date:                Thu, 28 Mar 2024   No. Observations:                21600\n",
       "Time:                        00:35:51   Df Residuals:                    21598\n",
       "                                        Df Model:                            1\n",
       "==============================================================================\n",
       "                 coef    std err          t      P>|t|      [0.025      0.975]\n",
       "------------------------------------------------------------------------------\n",
       "Intercept   5.283e+04   4072.816     12.972      0.000    4.49e+04    6.08e+04\n",
       "sqm_living  2332.2000     19.281    120.956      0.000    2294.407    2369.993\n",
       "==============================================================================\n",
       "\"\"\""
      ]
     },
     "execution_count": 41,
     "metadata": {},
     "output_type": "execute_result"
    }
   ],
   "source": [
    "mod = smf.quantreg('price ~ sqm_living', data=house)\n",
    "res = mod.fit(q=.5)\n",
    "res.summary()"
   ]
  },
  {
   "cell_type": "markdown",
   "id": "d1ae709b",
   "metadata": {},
   "source": [
    "### Results Interpretation\n",
    "\n",
    "The LAD estimation shows that there is a positive relationship between two variables, with a 1 square meter increase in living area would associate with a 2332.2 dollars increase in the house price on average. The intercept  is relatively small to the houses' prices mean, representing a $5.283*10^4$ house price when the living area square meter is 0 (a house without a living room). "
   ]
  },
  {
   "cell_type": "markdown",
   "id": "708e865a",
   "metadata": {},
   "source": [
    "We can compare the two residual plots of OLS and LAD estimators before assessing the LAD assumptions"
   ]
  },
  {
   "cell_type": "code",
   "execution_count": 44,
   "id": "3c0080e6",
   "metadata": {},
   "outputs": [
    {
     "data": {
      "text/plain": [
       "Text(0.5, 1.0, 'OLS residuals vs Sqm_living')"
      ]
     },
     "execution_count": 44,
     "metadata": {},
     "output_type": "execute_result"
    },
    {
     "data": {
      "image/png": "[encoded data removed]",
      "text/plain": [
       "<Figure size 1500x600 with 2 Axes>"
      ]
     },
     "metadata": {},
     "output_type": "display_data"
    }
   ],
   "source": [
    "resid1 = reg.resid\n",
    "resid2 = res.resid\n",
    "fit1 = reg.fittedvalues\n",
    "fit2 = res.fittedvalues\n",
    "fig = plt.figure(figsize=(15,6))\n",
    "ax1 = fig.add_subplot(1,2,1)\n",
    "ax2 = fig.add_subplot(1,2,2)\n",
    "ax1.scatter(house['sqm_living'], resid2)\n",
    "ax1.set_title(\"LAD residuals vs Sqm_living\")\n",
    "ax2.scatter(house['sqm_living'], resid1)\n",
    "ax2.set_title(\"OLS residuals vs Sqm_living\")"
   ]
  },
  {
   "cell_type": "code",
   "execution_count": 45,
   "id": "3937826a",
   "metadata": {},
   "outputs": [
    {
     "data": {
      "text/plain": [
       "Text(0.5, 1.0, 'Predictor vs residuals')"
      ]
     },
     "execution_count": 45,
     "metadata": {},
     "output_type": "execute_result"
    },
    {
     "data": {
      "image/png": "[encoded data removed]",
      "text/plain": [
       "<Figure size 600x600 with 3 Axes>"
      ]
     },
     "metadata": {},
     "output_type": "display_data"
    }
   ],
   "source": [
    "sns.jointplot(x=house['sqm_living'], y=res.resid, kind='reg')\n",
    "ax.set_xlabel('Sqm_living')\n",
    "ax.set_ylabel('Residuals')\n",
    "ax.set_title('Predictor vs residuals')"
   ]
  },
  {
   "cell_type": "markdown",
   "id": "f55a4a9e",
   "metadata": {},
   "source": [
    "### Assessing LAD Assumptions\n",
    "\n",
    "The residual plots of the OLS and LAD estimator looks identical, both showing a heteroskedasticity pattern representing unconstant variance.\n",
    "\n",
    "The LAD estimator assumes:\n",
    "\n",
    "1. Linearity: $Y = \\beta_0 + \\beta_1 X + \\varepsilon$ is the true population linear model.\n",
    "\n",
    "Through the exploratory analysis, we can see that there is a strong positive linear relationship between the two variables houses' prices and living area square meters with a large sample size, so Assumption 1 Linearity is satisfied\n",
    "\n",
    "2. The median of $\\varepsilon | X$ $=0$\n",
    "\n",
    "\n",
    "The residual plot suggests that the typical median residual is 0, so Assumption 2 is satisfied\n",
    "\n",
    "\n",
    "3. Independence: The data pairs $Y_i, X_i$ are i.i.d.\n",
    "\n",
    "Both variables did not display any clear trends in their plots, and are uncorrelated. Therefore, Assumption 3 is satisfied as the data give no strong or clear indication that it is not satisfied.\n",
    "\n",
    "\n",
    "4. Continuity of density: $p(Y_i|X_i)$  is a continuous function.\n",
    "\n",
    "We do not know $p(Y|X)$ here. Therefore, we will simply state that we assume this to be true.\n",
    "\n",
    "\n",
    "5. 1st absolute moment of Y exists: $E(|Y|)$ exists, i.e. is finite $< \\infty$.\n",
    "6. 2nd moment of X exists: $E(X^2)$ exists, i.e. is finite $< \\infty$.\n",
    "\n",
    "Assumptions 5 and 6 implies that we do not need small amount of outliers, since now 4th moments can be infinite, as even can $E(Y^2)$ and Var$(Y)$. "
   ]
  },
  {
   "cell_type": "markdown",
   "id": "ffee0c53",
   "metadata": {},
   "source": [
    "In summary, it is more likely that the data satisfy the LAD assumptions than the OLS LSA."
   ]
  },
  {
   "cell_type": "markdown",
   "id": "e8d6d454",
   "metadata": {},
   "source": [
    "## Question 5\n",
    "\n",
    "Write a brief (e.g. 0.5 page) report summarising and discussing your findings and conclusions. Include a discussion of whether you would recommend opening a waterfront area office in view of increasing real estate sales based on your findings."
   ]
  },
  {
   "cell_type": "markdown",
   "id": "080101db",
   "metadata": {},
   "source": [
    "This report focusing on summarizing the findings and conclusions of Task 1's questions, including the relationship between house prices and living area size in square meters and whether waterfront properties tend to have higher prices.\n",
    "\n",
    "### Key Findings\n",
    "\n",
    "**Relationship between waterfront and house prices**\n",
    "\n",
    "Three different tests were conducted to assess the significance of the relationship between waterfront and house prices: Student's t-test, median test, and Mann-Whitney U test. All tests indicated strong evidence against the null hypothesis, suggesting that waterfront properties indeed have higher prices.\n",
    "\n",
    "\n",
    "**Relationship between house prices and living area size in square meters**\n",
    "\n",
    "The exploratory analysis revealed a strong positive linear relationship between house prices and living area size, with a correlation coefficient of approximately 0.70. \n",
    "\n",
    "Two types of simple linear regression were performed: OLS (Ordinary Least Squares) and LAD (Least Absolute Deviations) estimation. While OLS estimation provided an estimated relationship between house prices and living area size, the LAD estimation was chosen due to its robustness to outliers and infinite 4th moments. The LAD estimation also provided evidence of a positive relationship between the two variables.\n",
    "\n",
    "The assumptions of both OLS and LAD estimators were thoroughly assessed. While OLS assumptions were not fully satisfied due to heteroskedasticity and unbounded 4th moments, the LAD assumptions appeared to be more plausible.\n",
    "\n",
    "### Conclusions\n",
    "\n",
    "In conclusion, this analysis provides valuable insights into the factors influencing house prices and suggests actionable recommendations for real estate business strategies. Based on the findings, it is recommended to consider opening a waterfront area office to capitalize on the higher prices associated with waterfront properties. The analysis suggests a significant relationship between waterfront and house prices, indicating potential opportunities for increased real estate sales in waterfront areas.\n"
   ]
  },
  {
   "cell_type": "markdown",
   "id": "6d55e31f",
   "metadata": {},
   "source": [
    "# Task 2\n"
   ]
  },
  {
   "cell_type": "markdown",
   "id": "8536320d",
   "metadata": {},
   "source": [
    "## Question 1 \n",
    "Is the mean of the estimated residuals from your OLS regression still equal 0, i.e.\n",
    "$\\bar{e} = 0$? How does your answer relate to LSA 2? "
   ]
  },
  {
   "cell_type": "markdown",
   "id": "ea134d54",
   "metadata": {},
   "source": [
    "The 2nd equation to give the OLS estimates in a model having the intercept $b_0$ is \n",
    "\n",
    "$$\n",
    "\\sum_{i=1}^n X_i(Y_i - b_0 - b_1 X_i) = \\sum_{i=1}^n X_ie_i = 0\n",
    "$$\n",
    "\n",
    "In a simple linear regression without the intercept term, the model equation becomes:\n",
    "\n",
    "$$\n",
    "Y_i = \\beta_1 X_i + \\varepsilon_i\n",
    "$$\n",
    "\n",
    "When we estimate this model using ordinary least squares (OLS) regression, we minimize the sum of squared residuals:\n",
    "\n",
    "$$\n",
    "RSS = \\sum_{i=1}^n (Y_i - b_1 X_i)^2\n",
    "$$\n",
    "\n",
    "Differentiating the residual sum of squares with respect to $b_1$, we have:\n",
    "\n",
    "$\\frac{d RSS}{d b_1} = -2\\sum_{i=1}^n X_i (Y_i - b_1 X_i)$\n",
    "\n",
    "\n",
    "Hence, the first order conditions of the OLS estimator are therefore:\n",
    "$\\sum_{i=1}^n X_i(Y_i - \\hat{\\beta_1} X_i)$ to be equal to 0.\n",
    "\n",
    "However, as we have $\\sum_{i=1}^n X_i(Y_i - \\hat{\\beta_0} - \\hat{\\beta_1} X_i) = 0$, the omitted intercept cause $\\sum_{i=1}^n X_i(Y_i - \\hat{\\beta_1} X_i)$ $\\neq 0$, meaning that $\\sum_{i=1}^n e_i$ $\\neq 0$ if the intercept $b_0$ $\\neq 0$. Therefore, the mean of the estimated errors ($\\bar{e}$) will not guarantee to be 0.\n",
    "\n",
    "LSA 2 says that $E(\\varepsilon | X) = 0$. This relates to LSA 2 by illustrating the importance of including the intercept term in a regression model. Omitting the intercept cause $E(\\varepsilon | X)$ $\\neq 0$, leading to failing to satisfy the LSA 2 and biased estimators. Therefore, it's essential to include the intercept term in most regression analyses to ensure accurate estimation and interpretation of the model parameters."
   ]
  },
  {
   "cell_type": "markdown",
   "id": "b1b05dc3",
   "metadata": {},
   "source": [
    "### Question 2\n",
    "\n",
    "Is the correlation between the estimated residuals and the observed x’s still equal 0"
   ]
  },
  {
   "cell_type": "markdown",
   "id": "f6d9ed12",
   "metadata": {},
   "source": [
    "The 2nd equation to give the OLS estimates is $\\sum_{i=1}^n X_i(Y_i - \\hat{\\beta_0} - \\hat{\\beta_1} X_i) = \\sum_{i=1}^n X_ie_i = 0$. \n",
    "\n",
    "As we don't have the intercept in the regression, this equation become: \n",
    "$\\sum_{i=1}^n X_i(Y_i - \\hat{\\beta_1} X_i) = \\sum_{i=1}^n X_ie_i$\n",
    "\n",
    "In question 1, we proved that $\\sum_{i=1}^n e_i$ $\\neq$ 0. Hence, $\\sum_{i=1}^n X_ie_i$ $\\neq$ 0\n",
    "\n",
    "To estimate the correlation between x and e, we use: Corr$(x,e) = \\frac{\\mbox{Cov}(X,e)}{\\sqrt{V(x)V(e)}}$ where \n",
    "$\\mbox{Cov}(X,e) = E[(x-E(x))(e-E(e))]$. \n",
    "\n",
    "The covariance part is estimated from the sample by $\\mbox{Cov}(X,e) = \\frac{1}{n-1} \\sum_{i=1}^n (X_i - \\bar{X})(e_i -\\bar{e})$. \n",
    "\n",
    "Now, we examine if the following equation can be equal to 0:\n",
    "\n",
    "$\\sum_{i=1}^n (x_i - \\bar{X})(e_i -\\bar{e})$\n",
    "\n",
    "$ = \\sum_{i=1}^n (X_ie_i) + \\sum_{i=1}^n (X_i\\bar{e}) - \\sum_{i=1}^n (\\bar{X}e_i) + \\bar{X}\\bar{e}$\n",
    "\n",
    "\n",
    "Without the intercept, $\\bar{X} \\bar{e}$ and $\\sum_{i=1}^n X_ie_i$ is not guarantee to be 0. Thus, the covariance between X and e may not necessarily be 0.\n",
    "\n",
    "Therefore, the estimated correlation between x and e is: Corr$(X,e) = \\frac{\\mbox{Cov}(X,e)}{\\sqrt{V(X)V(e)}}$ does not guarantee to be 0. This cause the Exogeneity assumption LSA 2 to fail. "
   ]
  },
  {
   "cell_type": "markdown",
   "id": "0ab66f07",
   "metadata": {},
   "source": [
    "### Question 3\n",
    "\n",
    "What form does the OLS estimator of the slope coefficient in your regression have?"
   ]
  },
  {
   "cell_type": "markdown",
   "id": "bd4f5601",
   "metadata": {},
   "source": [
    "The 2nd equation to give the OLS estimates is $\\sum_{i=1}^n X_i(Y_i - \\hat{\\beta_0} - \\hat{\\beta_1} X_i) = 0$. \n",
    "\n",
    "Rearranging this, we have: \n",
    "\n",
    "$\\sum X_i Y_i = \\hat{\\beta_0} \\sum X_i + \\hat{\\beta_1} \\sum Y_i^2$\n",
    "\n",
    "As we don't have the intercept in the regression, this equation become: \n",
    "\n",
    "$\\hat{\\beta_1}\\sum_{i=1}^n X_i^2 = \\sum_{i=1}^n X_i Y_i$ \n",
    "\n",
    "$=> \\hat{\\beta_1} = \\frac{\\sum_{i=1}^n X_i Y_i}{\\sum_{i=1}^n X_i^2}$\n",
    "\n",
    "Hence, the form of the OLS estimator of the slope coefficient is:\n",
    "\n",
    "$$\n",
    "\\hat{\\beta_1} = \\frac{\\sum_{i=1}^n X_i Y_i}{\\sum_{i=1}^n X_i^2}\n",
    "$$"
   ]
  },
  {
   "cell_type": "markdown",
   "id": "06cc77ca",
   "metadata": {},
   "source": [
    "### Question 4\n",
    "\n",
    "Show whether or not the OLS estimator of your regression is still an unbiased\n",
    "estimator of the true $\\beta_1$."
   ]
  },
  {
   "cell_type": "markdown",
   "id": "6171fd90",
   "metadata": {},
   "source": [
    "From Question 2, we have:\n",
    "\n",
    "$$\n",
    "\\hat{\\beta_1} = \\frac{\\sum_{i=1}^n X_i Y_i}{\\sum_{i=1}^n X_i^2}\n",
    "$$\n",
    "\n",
    "Let $a_i = \\frac{X_i}{\\sum_{i=1}^n X_i^2}$\n",
    "\n",
    "Thus, $\\hat{\\beta_1} = \\sum_{i=1}^n a_i Y_i$ is a linear combination of i.i.d. random variables\n",
    "\n",
    "With our regression without the intercept $\\beta_0$: $Y_1 = \\beta_1 X_i + \\varepsilon_i$, we can plug in $Y_i$ in $\\sum_{i=1}^n a_i Y_i$:\n",
    "\n",
    "$\\hat{\\beta_1} = \\beta_1 \\sum_{i=1}^n a_i X_i + \\sum_{i=1}^n a_i \\varepsilon_i$\n",
    "\n",
    "Here, $\\sum_{i=1}^n a_i X_i$ is not guaranteed to be 1, so we can not eliminate this expression. \n",
    "\n",
    "Hence, we have:\n",
    "$E(\\beta_1 | X) = \\beta_1 \\sum_{i=1}^n a_i X_i + \\sum_{i=1}^n a_i E(\\varepsilon_i | X_i)$ \n",
    "\n",
    "However, as LSA 2 is not satisfied due to the omitted intercept, $E(\\varepsilon | X)$ $\\neq 0$. This implies that $E(\\beta_1 | X) \\neq \\beta_1$.\n",
    "\n",
    "Therefore, we can conclude that $\\beta_1$ is no longer an unbiased estimator of $\\beta_1$ with the omitted intercept in the regression"
   ]
  }
 ],
 "metadata": {
  "kernelspec": {
   "display_name": "Python 3 (ipykernel)",
   "language": "python",
   "name": "python3"
  },
  "language_info": {
   "codemirror_mode": {
    "name": "ipython",
    "version": 3
   },
   "file_extension": ".py",
   "mimetype": "text/x-python",
   "name": "python",
   "nbconvert_exporter": "python",
   "pygments_lexer": "ipython3",
   "version": "3.11.5"
  }
 },
 "nbformat": 4,
 "nbformat_minor": 5
}
